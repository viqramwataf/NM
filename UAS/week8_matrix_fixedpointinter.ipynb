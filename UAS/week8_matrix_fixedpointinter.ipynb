{
 "cells": [
  {
   "attachments": {},
   "cell_type": "markdown",
   "metadata": {},
   "source": [
    "iterasi 1 titik"
   ]
  },
  {
   "cell_type": "code",
   "execution_count": 1,
   "metadata": {},
   "outputs": [
    {
     "name": "stdout",
     "output_type": "stream",
     "text": [
      "iterasi ke: 1\n",
      "f(x1)= -26\n",
      "f(x2)= -100\n",
      "x1= 5.0990195135927845\n",
      "x2= 2.0\n",
      "max εa= 100.0\n",
      "\n",
      "iterasi ke: 2\n",
      "f(x1)= 3.9999999999999964\n",
      "f(x2)= 78.0\n",
      "x1= 4.69041575982343\n",
      "x2= 0.9380831519646862\n",
      "max εa= 113.20071635561038\n",
      "\n",
      "iterasi ke: 3\n",
      "f(x1)= -3.120000000000001\n",
      "f(x2)= -11.999999999999986\n",
      "x1= 5.011985634456667\n",
      "x2= 1.1661903789690602\n",
      "max εa= 19.56003334601561\n",
      "\n",
      "iterasi ke: 4\n",
      "f(x1)= 0.4799999999999969\n",
      "f(x2)= 9.359999999999985\n",
      "x1= 4.963869458396343\n",
      "x2= 0.9927738916792688\n",
      "max εa= 17.467873474841173\n",
      "\n"
     ]
    }
   ],
   "source": [
    "import math as m\n",
    "\n",
    "g1 = lambda x1,x2: m.sqrt(26-(x2**2))\n",
    "g2 = lambda x1,x2: m.sqrt((100-(3*(x1**2)))/25)\n",
    "f1 = lambda x1,x2: (x1**2)+(x2**2)-26\n",
    "f2 = lambda x1,x2: (3*(x1**2)) +(25*(x2**2))-100\n",
    "\n",
    "x1 = 0\n",
    "x2 = 0\n",
    "counter = 1\n",
    "\n",
    "while counter <= 4:\n",
    "    x11 = g1(x1,x2)\n",
    "    x22 = g2(x1,x2)\n",
    "    \n",
    "    fx1 = f1(x1,x2)\n",
    "    fx2 = f2(x1,x2)\n",
    "    maxea = max([abs(((x11-x1)/x11)*100), abs(((x22-x2)/x22)*100)])\n",
    "    print(f\"iterasi ke: {counter}\\nf(x1)= {fx1}\\nf(x2)= {fx2}\\nx1= {x11}\\nx2= {x22}\\nmax \\u03B5a= {maxea}\\n\")\n",
    "    \n",
    "    x1 = x11\n",
    "    x2 = x22\n",
    "    \n",
    "    counter += 1\n",
    "    "
   ]
  },
  {
   "cell_type": "code",
   "execution_count": 9,
   "metadata": {},
   "outputs": [
    {
     "name": "stdout",
     "output_type": "stream",
     "text": [
      "3\n",
      "sin(3)\n",
      "0.141120008059867\n"
     ]
    }
   ],
   "source": [
    "# import sympy as s\n",
    "# x1, x2 = s.symbols(\"x1 x2\")\n",
    "\n",
    "\n",
    "# f1 = ((3*x1)-s.cos(x2)-0.5)\n",
    "# f2 = ((x1**2)-(81*x2)+1.06)\n",
    "\n",
    "# df1x1 = s.Derivative(f1,x1)\n",
    "# df1x2 = s.Derivative(f1,x2)\n",
    "# df2x1 = s.Derivative(f2,x1)\n",
    "# df2x2 = s.Derivative(f2,x2)\n",
    "\n",
    "\n",
    "# xlist = [1,3]\n",
    "# c = 1\n",
    "# print()\n",
    "# hasil = df1x2.subs({x1:xlist[0], x2:xlist[1]}).doit()\n",
    "\n",
    "# while c <= 3:\n",
    "#     print(f\"iterasi ke-{c}\")\n",
    "#     c += 1\n"
   ]
  },
  {
   "attachments": {},
   "cell_type": "markdown",
   "metadata": {},
   "source": [
    "pake Newton"
   ]
  },
  {
   "cell_type": "code",
   "execution_count": 7,
   "metadata": {},
   "outputs": [
    {
     "name": "stdout",
     "output_type": "stream",
     "text": [
      "Matrix([[Derivative(3*x1 - cos(x2) - 0.5, x1), Derivative(3*x1 - cos(x2) - 0.5, x2)], [Derivative(20*x2 - pi + exp(-x1), x1), Derivative(20*x2 - pi + exp(-x1), x2)]]) \n",
      "\n",
      "\n",
      "iterasi ke-1\n",
      "[[x1(0)],[x2(0)]] =  Matrix([[0.100000000000000], [0.100000000000000]])\n",
      "J matrix:  Matrix([[3.00000000000000, 0.0998334166468282], [-0.904837418035960, 20.0000000000000]])\n",
      "inversed J matrix: Matrix([[0.332832237697113, -0.00166138897297560], [0.0150579531298493, 0.0499248356545670]])\n",
      "Functions result:  Matrix([[-1.19500416527803], [-0.236755235553834]])\n",
      "inversed J matrix * Functions result :  Matrix([[-0.397342567849213], [-0.0298142829361147]])\n",
      "[[x1(1)],[x2(1)]] =  Matrix([[0.497342567849213], [0.129814282936115]]) \n",
      "\n",
      "iterasi ke-2\n",
      "[[x1(1)],[x2(1)]] =  Matrix([[0.497342567849213], [0.129814282936115]])\n",
      "J matrix:  Matrix([[3.00000000000000, 0.129449990421598], [-0.608144617329816, 20.0000000000000]])\n",
      "inversed J matrix: Matrix([[0.332896549120697, -0.00215467275475286], [0.0101224622237711, 0.0499344823681045]])\n",
      "Functions result:  Matrix([[0.000441751660537060], [0.0628376224623167]])\n",
      "inversed J matrix * Functions result :  Matrix([[1.16630902681247e-5], [0.00314223576539424]])\n",
      "[[x1(2)],[x2(2)]] =  Matrix([[0.497330904758945], [0.126672047170720]]) \n",
      "\n",
      "iterasi ke-3\n",
      "[[x1(2)],[x2(2)]] =  Matrix([[0.497330904758945], [0.126672047170720]])\n",
      "J matrix:  Matrix([[3.00000000000000, 0.126333559635353], [-0.608151710216747, 20.0000000000000]])\n",
      "inversed J matrix: Matrix([[0.332907046025409, -0.00210286660760402], [0.0101228994691779, 0.0499360569038114]])\n",
      "Functions result:  Matrix([[4.89594948138716e-6], [4.13623465407549e-11]])\n",
      "inversed J matrix * Functions result :  Matrix([[1.62989599235874e-6], [4.95632698787464e-8]])\n",
      "[[x1(3)],[x2(3)]] =  Matrix([[0.497329274862952], [0.126671997607451]]) \n",
      "\n"
     ]
    }
   ],
   "source": [
    "# !pip install numpy\n",
    "# !pip install sympy\n",
    "# uncomment 2 line diatas buat Google Colab\n",
    "import sympy as s\n",
    "import numpy as np\n",
    "\n",
    "\n",
    "\n",
    "x1, x2 = s.symbols(\"x1 x2\")\n",
    "xlistvar = [x1,x2]\n",
    "xmatvar = s.Matrix(xlistvar)\n",
    "\n",
    "xlistnum = [0.1,0.1]\n",
    "xlistnummat = s.Matrix(xlistnum)\n",
    "\n",
    "functions = [\n",
    "    (3*x1)-s.cos(x2)-(1/2),\n",
    "    s.exp(-x1)+(20*x2)-s.pi\n",
    "    # (x1**2)+(x2**2)-26, # f1\n",
    "    # (3*(x1**2))+(25*(x2**2))-100 #f2\n",
    "    \n",
    "]\n",
    "functionsmat = s.Matrix(functions)\n",
    "\n",
    "dfx = []\n",
    "\n",
    "for f in functions:\n",
    "    f1 = []\n",
    "    for x in xlistvar:\n",
    "        f1.append(s.Derivative(f,x))\n",
    "    dfx.append(f1)\n",
    "\n",
    "dfx = s.Matrix(dfx)\n",
    "\n",
    "\n",
    "print(dfx, \"\\n\\n\")\n",
    "\n",
    "iterasi = 1\n",
    "while iterasi <= 3:\n",
    "    values = {x1:xlistnummat.row(0)[0], x2:xlistnummat.row(1)[0]}\n",
    "    # print(values)\n",
    "    print(f\"iterasi ke-{iterasi}\")\n",
    "    \n",
    "    print(f\"[[x1({iterasi-1})],[x2({iterasi-1})]] = \", xlistnummat)\n",
    "    dfxres = s.N(dfx.subs(values).doit())\n",
    "    print(\"J matrix: \",dfxres)\n",
    "    dfxresinv = dfxres.inv()\n",
    "    print(\"inversed J matrix:\", dfxresinv)\n",
    "    fres = s.N(functionsmat.subs(values).doit())\n",
    "    print(\"Functions result: \",fres)\n",
    "    multiplymat = dfxresinv * fres\n",
    "    print(\"inversed J matrix * Functions result : \",multiplymat)\n",
    "    \n",
    "    xlistnummat = xlistnummat - multiplymat\n",
    "    print(f\"[[x1({iterasi})],[x2({iterasi})]] = \",xlistnummat, \"\\n\")\n",
    "\n",
    "    iterasi += 1"
   ]
  },
  {
   "attachments": {},
   "cell_type": "markdown",
   "metadata": {},
   "source": [
    "max eps a"
   ]
  },
  {
   "cell_type": "code",
   "execution_count": 14,
   "metadata": {},
   "outputs": [
    {
     "name": "stdout",
     "output_type": "stream",
     "text": [
      "2.4806070759716214\n"
     ]
    }
   ],
   "source": [
    "sblm1 = 0.497342567849213\n",
    "stlh1 = 0.497330904758945\n",
    "sblm2 = 0.129814282936115\n",
    "stlh2 = 0.126672047170720\n",
    "\n",
    "print(max(abs(((stlh1-sblm1)/stlh1)*100),abs(((stlh2-sblm2)/stlh2)*100)))"
   ]
  },
  {
   "cell_type": "code",
   "execution_count": 15,
   "metadata": {},
   "outputs": [
    {
     "name": "stdout",
     "output_type": "stream",
     "text": [
      "0.0003277297507680703\n"
     ]
    }
   ],
   "source": [
    "sblm1 = 0.497330904758945\n",
    "stlh1 = 0.497329274862952\n",
    "sblm2 = 0.126672047170720\n",
    "stlh2 = 0.126671997607451\n",
    "\n",
    "print(max(abs(((stlh1-sblm1)/stlh1)*100),abs(((stlh2-sblm2)/stlh2)*100)))"
   ]
  }
 ],
 "metadata": {
  "kernelspec": {
   "display_name": "Python 3",
   "language": "python",
   "name": "python3"
  },
  "language_info": {
   "codemirror_mode": {
    "name": "ipython",
    "version": 3
   },
   "file_extension": ".py",
   "mimetype": "text/x-python",
   "name": "python",
   "nbconvert_exporter": "python",
   "pygments_lexer": "ipython3",
   "version": "3.10.2 (tags/v3.10.2:a58ebcc, Jan 17 2022, 14:12:15) [MSC v.1929 64 bit (AMD64)]"
  },
  "orig_nbformat": 4,
  "vscode": {
   "interpreter": {
    "hash": "26de051ba29f2982a8de78e945f0abaf191376122a1563185a90213a26c5da77"
   }
  }
 },
 "nbformat": 4,
 "nbformat_minor": 2
}
