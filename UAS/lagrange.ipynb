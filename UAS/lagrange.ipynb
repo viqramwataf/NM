{
 "cells": [
  {
   "attachments": {},
   "cell_type": "markdown",
   "metadata": {},
   "source": [
    "rumus umum L dan hasil totalnya"
   ]
  },
  {
   "cell_type": "code",
   "execution_count": 2,
   "metadata": {},
   "outputs": [
    {
     "name": "stdout",
     "output_type": "stream",
     "text": [
      "List L(i) = [-0.2571428571428572, 0.5, 0.9000000000000001, -0.14285714285714285]\n",
      "\n",
      "L(0)f(x0) = -0.6369685714285716\n",
      "L(1)f(x1) = 1.24145\n",
      "L(2)f(x2) = 2.2358700000000007\n",
      "L(3)f(x3) = -0.35529999999999995\n",
      "Hasil pada x = 304 adalah 2.4850514285714294\n"
     ]
    }
   ],
   "source": [
    "listx = [300,301,305,307]\n",
    "listfx = [2.4771,2.4829,2.4843,2.4871]\n",
    "jumInter = 4 # interpolasi kubik\n",
    "x = 304\n",
    "# listx dan listfx harus berjumlah item yang sama\n",
    "\n",
    "Llist = []\n",
    "for i in range(jumInter):\n",
    "    li = 1\n",
    "    for j in range(jumInter):\n",
    "        if i == j:\n",
    "            li *= 1\n",
    "        else:\n",
    "            li *= ((x-listx[j])/(listx[i]-listx[j]))\n",
    "    Llist.append(li)\n",
    "print(f\"List L(i) = {Llist}\\n\")\n",
    "\n",
    "result = 0\n",
    "for i in range(len(Llist)):\n",
    "    restemp = Llist[i]*listfx[i]\n",
    "    print(f\"L({i})f(x{i}) = {restemp}\")\n",
    "    result += restemp\n",
    "print(f\"Hasil pada x = {x} adalah {result}\")"
   ]
  }
 ],
 "metadata": {
  "kernelspec": {
   "display_name": "Python 3",
   "language": "python",
   "name": "python3"
  },
  "language_info": {
   "codemirror_mode": {
    "name": "ipython",
    "version": 3
   },
   "file_extension": ".py",
   "mimetype": "text/x-python",
   "name": "python",
   "nbconvert_exporter": "python",
   "pygments_lexer": "ipython3",
   "version": "3.10.2"
  },
  "orig_nbformat": 4,
  "vscode": {
   "interpreter": {
    "hash": "26de051ba29f2982a8de78e945f0abaf191376122a1563185a90213a26c5da77"
   }
  }
 },
 "nbformat": 4,
 "nbformat_minor": 2
}
