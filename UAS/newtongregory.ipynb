{
 "cells": [
  {
   "attachments": {},
   "cell_type": "markdown",
   "metadata": {},
   "source": [
    "interpolasi newton gregory mundur"
   ]
  },
  {
   "cell_type": "code",
   "execution_count": 4,
   "metadata": {},
   "outputs": [
    {
     "name": "stdout",
     "output_type": "stream",
     "text": [
      "iterasi ke- 0\n",
      "iterasi ke- 1\n",
      "s*(s+1)*...*(s+n) -0.3799999999999999\n",
      "hasil p pada iterasi ke- 1  =  0.11399999999999996 \n",
      "\n",
      "\n",
      "iterasi ke- 2\n",
      "s*(s+1)*...*(s+n) -0.23559999999999998\n",
      "hasil p pada iterasi ke- 2  =  0.011779999999999999 \n",
      "\n",
      "\n",
      "iterasi ke- 3\n",
      "s*(s+1)*...*(s+n) -0.381672\n",
      "hasil p pada iterasi ke- 3  =  -0.0190836 \n",
      "\n",
      "\n",
      "iterasi ke- 4\n",
      "s*(s+1)*...*(s+n) -0.9999806400000001\n",
      "hasil p pada iterasi ke- 4  =  -0.024999516 \n",
      "\n",
      "\n",
      "P4(0.81) = 0.5816968840000001\n"
     ]
    }
   ],
   "source": [
    "import math as m\n",
    "listdelta = [0.5,-0.3,-0.1,0.3,0.6]\n",
    "xi = 1\n",
    "x = 0.81\n",
    "h = 0.5\n",
    "batasiter = 5\n",
    "\n",
    "iterasi = 0\n",
    "pres = 0\n",
    "\n",
    "while iterasi < batasiter:\n",
    "    print(\"iterasi ke-\", iterasi)\n",
    "    if iterasi == 0:\n",
    "        pres += listdelta[iterasi]\n",
    "    else:\n",
    "        sseq = 1\n",
    "        for i in range(iterasi):\n",
    "            sseq *= ((x-xi)/h)+i\n",
    "        print(\"s*(s+1)*...*(s+n)\",sseq)\n",
    "        temp = (listdelta[iterasi]/m.factorial(iterasi))*sseq\n",
    "        pres += temp\n",
    "        print(\"hasil p pada iterasi ke-\", iterasi,\" = \",temp,\"\\n\\n\")\n",
    "    iterasi += 1\n",
    "        \n",
    "print(f\"P{iterasi-1}({x}) = {pres}\")"
   ]
  },
  {
   "attachments": {},
   "cell_type": "markdown",
   "metadata": {},
   "source": [
    "interpolasi newton gregory maju"
   ]
  },
  {
   "cell_type": "code",
   "execution_count": 47,
   "metadata": {},
   "outputs": [
    {
     "name": "stdout",
     "output_type": "stream",
     "text": [
      "iterasi ke- 0\n",
      "iterasi ke- 1\n",
      "s*(s+1)*...*(s+n) 2.5\n",
      "hasil p pada iterasi ke- 1  =  272312.5\n",
      "P1(1995) = 711547.5\n"
     ]
    }
   ],
   "source": [
    "import math as m\n",
    "\n",
    "listdelta = [439235,108925,26244,1646,-10246,-1337]\n",
    "x0 = 1970\n",
    "x = 1995\n",
    "h = 10\n",
    "batasiter = 2\n",
    "\n",
    "iterasi = 0\n",
    "pres = 0\n",
    "\n",
    "while iterasi < batasiter:\n",
    "    print(\"iterasi ke-\", iterasi)\n",
    "    if iterasi == 0:\n",
    "        pres += listdelta[iterasi]\n",
    "    else:\n",
    "        sseq = 1\n",
    "        for i in range(iterasi):\n",
    "            sseq *= ((x-x0)/h)-i\n",
    "        print(\"s*(s+1)*...*(s+n)\",sseq)\n",
    "        temp = (listdelta[iterasi]/m.factorial(iterasi))*sseq\n",
    "        # pdktSblm = pres\n",
    "        pres += temp\n",
    "        # pdktStlh = pres\n",
    "        print(\"hasil p pada iterasi ke-\", iterasi,\" = \",temp)\n",
    "        # epsilon = ((pdktStlh-pdktSblm)/pdktStlh)*100\n",
    "        # print(f\"Epsilon = {epsilon}\\n\\n\")\n",
    "    iterasi += 1\n",
    "        \n",
    "print(f\"P{iterasi-1}({x}) = {pres}\")"
   ]
  },
  {
   "cell_type": "code",
   "execution_count": 64,
   "metadata": {},
   "outputs": [
    {
     "name": "stdout",
     "output_type": "stream",
     "text": [
      "Epsilon pada P3 = 6.468245361515862\n",
      "\n",
      "Epsilon pada P4 = 0.06756806682260139\n",
      "\n",
      "Epsilon pada P5 = 0.05254697969745946\n",
      "\n",
      "Epsilon pada P6 = 0.0020570980990490327\n",
      "\n",
      "[711547.5, 760755.0, 761269.375, 761669.609375, 761653.94140625]\n"
     ]
    }
   ],
   "source": [
    "import math as m\n",
    "\n",
    "listdelta = [439235,108925,26244,1646,-10246,-1337]\n",
    "x0 = 1970\n",
    "x = 1995\n",
    "h = 10\n",
    "# batasiter = 2\n",
    "\n",
    "\n",
    "plist = []\n",
    "for z in range(2,len(listdelta)+1):\n",
    "    iterasi = 0\n",
    "    pres = 0\n",
    "    while iterasi < z:\n",
    "    # print(\"iterasi ke-\", iterasi)\n",
    "        if iterasi == 0:\n",
    "            pres += listdelta[iterasi]\n",
    "        else:\n",
    "            sseq = 1\n",
    "            for i in range(iterasi):\n",
    "                sseq *= ((x-x0)/h)-i\n",
    "            # print(\"s*(s+1)*...*(s+n)\",sseq)\n",
    "            temp = (listdelta[iterasi]/m.factorial(iterasi))*sseq\n",
    "            # pdktSblm = pres\n",
    "            pres += temp\n",
    "            # pdktStlh = pres\n",
    "            # print(\"hasil p pada iterasi ke-\", iterasi,\" = \",temp)\n",
    "            # epsilon = ((pdktStlh-pdktSblm)/pdktStlh)*100\n",
    "            # print(f\"Epsilon = {epsilon}\\n\\n\")\n",
    "        iterasi += 1\n",
    "    if z != 2:\n",
    "        pdktSblm = plist[len(plist)-1]\n",
    "        pdktStlh = pres\n",
    "\n",
    "        epsilon = ((pdktStlh-pdktSblm)/pdktStlh)*100\n",
    "        print(f\"Epsilon pada P{z} = {abs(epsilon)}\\n\")\n",
    "    plist.append(pres)\n",
    "\n",
    "print(plist)\n",
    "# print(f\"P{iterasi-1}({x}) = {pres}\")"
   ]
  }
 ],
 "metadata": {
  "kernelspec": {
   "display_name": "Python 3",
   "language": "python",
   "name": "python3"
  },
  "language_info": {
   "codemirror_mode": {
    "name": "ipython",
    "version": 3
   },
   "file_extension": ".py",
   "mimetype": "text/x-python",
   "name": "python",
   "nbconvert_exporter": "python",
   "pygments_lexer": "ipython3",
   "version": "3.10.2"
  },
  "orig_nbformat": 4,
  "vscode": {
   "interpreter": {
    "hash": "26de051ba29f2982a8de78e945f0abaf191376122a1563185a90213a26c5da77"
   }
  }
 },
 "nbformat": 4,
 "nbformat_minor": 2
}
